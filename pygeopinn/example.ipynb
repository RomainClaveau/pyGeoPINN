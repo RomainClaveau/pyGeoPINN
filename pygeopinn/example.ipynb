{
 "cells": [
  {
   "cell_type": "code",
   "execution_count": 1,
   "id": "0eb206b1",
   "metadata": {},
   "outputs": [],
   "source": [
    "import numpy as np\n",
    "from pygeotools import *\n",
    "from pygeopinn import *"
   ]
  },
  {
   "cell_type": "code",
   "execution_count": 2,
   "id": "737c10aa",
   "metadata": {},
   "outputs": [
    {
     "name": "stdout",
     "output_type": "stream",
     "text": [
      "pygeotools was initialized with `verbose=True`.\n"
     ]
    }
   ],
   "source": [
    "pygeo = pygeotools()"
   ]
  },
  {
   "cell_type": "code",
   "execution_count": 3,
   "id": "26734a09",
   "metadata": {},
   "outputs": [
    {
     "name": "stdout",
     "output_type": "stream",
     "text": [
      "13\n"
     ]
    }
   ],
   "source": [
    "pygeo.loadModel(\"covobs\", \"covobs_hdf5\", \"covobs.hdf5\")\n",
    "\n",
    "pygeo.setGrid(\"1deg\")\n",
    "\n",
    "context = {\n",
    "    \"r\": pygeo.constants[\"rCore\"],\n",
    "    \"lmax\": 13\n",
    "}\n",
    "\n",
    "MF = pygeo.addMeasure(\"covobs\", \"MF\", context)\n",
    "SV = pygeo.addMeasure(\"covobs\", \"SV\", context)"
   ]
  },
  {
   "cell_type": "code",
   "execution_count": 4,
   "id": "a3231544",
   "metadata": {},
   "outputs": [],
   "source": [
    "pinn = pygeopinn(nb_layers=3, nb_nodes=32)"
   ]
  },
  {
   "cell_type": "code",
   "execution_count": 5,
   "id": "8280354d",
   "metadata": {},
   "outputs": [],
   "source": [
    "_, (thetas, phis) = pygeo.getCurrentGrid()\n",
    "\n",
    "thetas = np.rad2deg(thetas)\n",
    "phis = np.rad2deg(phis)"
   ]
  },
  {
   "cell_type": "code",
   "execution_count": 6,
   "id": "0cf82608",
   "metadata": {},
   "outputs": [],
   "source": [
    "theta_min, theta_max = 20, 60\n",
    "phi_min, phi_max = 20, 60\n",
    "\n",
    "idx_theta_min = np.argmin(np.abs(thetas - theta_min))\n",
    "idx_theta_max = np.argmin(np.abs(thetas - theta_max))\n",
    "idx_phi_min = np.argmin(np.abs(phis - phi_min))\n",
    "idx_phi_max = np.argmin(np.abs(phis - phi_max))"
   ]
  },
  {
   "cell_type": "code",
   "execution_count": 7,
   "id": "f708ce59",
   "metadata": {},
   "outputs": [],
   "source": [
    "Br = pygeo.selectFromMeasure(\"covobs\", MF, options={\"time\": 2020, \"component\": \"r\"})\n",
    "dBrdt = pygeo.selectFromMeasure(\"covobs\", SV, options={\"time\": 2020, \"component\": \"r\"})\n",
    "times = pygeo.selectFromQuantity(\"covobs\", \"times\")"
   ]
  },
  {
   "cell_type": "code",
   "execution_count": 8,
   "id": "fdbee234",
   "metadata": {},
   "outputs": [],
   "source": [
    "pinn.set_grid(thetas[idx_theta_min:idx_theta_max], phis[idx_phi_min:idx_phi_max])"
   ]
  },
  {
   "cell_type": "code",
   "execution_count": 9,
   "id": "feb95506",
   "metadata": {},
   "outputs": [],
   "source": [
    "pinn.add(\"Br\", Br[idx_theta_min:idx_theta_max, idx_phi_min:idx_phi_max])\n",
    "pinn.add(\"dBrdt\", dBrdt[idx_theta_min:idx_theta_max, idx_phi_min:idx_phi_max])\n",
    "pinn.add(\"times\", times)"
   ]
  },
  {
   "cell_type": "code",
   "execution_count": 11,
   "id": "be6d6b79",
   "metadata": {},
   "outputs": [
    {
     "name": "stdout",
     "output_type": "stream",
     "text": [
      "Epoch 0: L1 = 22970.41796875, L2 = 0.000792569131590426\n",
      "Epoch 100: L1 = 20281.994140625, L2 = 0.000778063025791198\n",
      "Epoch 200: L1 = 17082.474609375, L2 = 0.000785222218837589\n",
      "Epoch 300: L1 = 14042.3447265625, L2 = 0.0007906733662821352\n",
      "Epoch 400: L1 = 11444.7529296875, L2 = 0.0007961515220813453\n",
      "Epoch 500: L1 = 9434.5849609375, L2 = 0.0008014122140593827\n",
      "Epoch 600: L1 = 7984.4150390625, L2 = 0.0008058748207986355\n",
      "Epoch 700: L1 = 6966.44677734375, L2 = 0.0008093152428045869\n",
      "Epoch 800: L1 = 6232.05517578125, L2 = 0.0008118139812722802\n",
      "Epoch 900: L1 = 5672.21630859375, L2 = 0.0008136616670526564\n"
     ]
    }
   ],
   "source": [
    "pinn.init()\n",
    "\n",
    "pinn.train(nb_reals=1, nb_epochs=1000)\n",
    "\n",
    "dBrdt_pred, uH_pred = pinn.results()"
   ]
  },
  {
   "cell_type": "code",
   "execution_count": null,
   "id": "e0449b73",
   "metadata": {},
   "outputs": [
    {
     "data": {
      "text/plain": [
       "(40, 40)"
      ]
     },
     "execution_count": 13,
     "metadata": {},
     "output_type": "execute_result"
    }
   ],
   "source": [
    "dBrdt_pred"
   ]
  }
 ],
 "metadata": {
  "kernelspec": {
   "display_name": "Python 3",
   "language": "python",
   "name": "python3"
  },
  "language_info": {
   "codemirror_mode": {
    "name": "ipython",
    "version": 3
   },
   "file_extension": ".py",
   "mimetype": "text/x-python",
   "name": "python",
   "nbconvert_exporter": "python",
   "pygments_lexer": "ipython3",
   "version": "3.13.3"
  }
 },
 "nbformat": 4,
 "nbformat_minor": 5
}
