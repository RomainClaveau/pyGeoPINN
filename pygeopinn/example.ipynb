{
 "cells": [
  {
   "cell_type": "code",
   "execution_count": 1,
   "id": "0eb206b1",
   "metadata": {},
   "outputs": [],
   "source": [
    "from pygeopinn import *"
   ]
  },
  {
   "cell_type": "code",
   "execution_count": 2,
   "id": "a3231544",
   "metadata": {},
   "outputs": [],
   "source": [
    "pygeo = pygeopinn(nb_layers=3, nb_nodes=32)"
   ]
  }
 ],
 "metadata": {
  "kernelspec": {
   "display_name": "Python 3",
   "language": "python",
   "name": "python3"
  },
  "language_info": {
   "codemirror_mode": {
    "name": "ipython",
    "version": 3
   },
   "file_extension": ".py",
   "mimetype": "text/x-python",
   "name": "python",
   "nbconvert_exporter": "python",
   "pygments_lexer": "ipython3",
   "version": "3.13.3"
  }
 },
 "nbformat": 4,
 "nbformat_minor": 5
}
